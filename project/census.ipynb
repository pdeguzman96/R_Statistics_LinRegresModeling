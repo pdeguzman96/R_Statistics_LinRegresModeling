{
  "nbformat": 4,
  "nbformat_minor": 0,
  "metadata": {
    "kernelspec": {
      "name": "python3",
      "display_name": "Python 3"
    },
    "language_info": {
      "codemirror_mode": {
        "name": "ipython",
        "version": 3
      },
      "file_extension": ".py",
      "mimetype": "text/x-python",
      "name": "python",
      "nbconvert_exporter": "python",
      "pygments_lexer": "ipython3",
      "version": "3.7.3"
    },
    "colab": {
      "name": "Copy of census_education2income_demo_colab.ipynb",
      "version": "0.3.2",
      "provenance": []
    },
    "accelerator": "GPU"
  },
  "cells": [
    {
      "cell_type": "markdown",
      "metadata": {
        "id": "UEr1zztg-4B_",
        "colab_type": "text"
      },
      "source": [
        "# Census Notebook\n",
        "\n",
        "Held every 10 years, the US census gives a detailed snapshot in time about the makeup of the country.  The last census in 2010 surveyed nearly 309 million people.  IPUMS.org provides researchers an open source data set with 1% to 10% of the census data set.  In this notebook, we want to see how education affects total income earned in the US based on data from each census from the 1970 to 2010 and see if we can predict some results if the census was held today, according to the national average.  We will go through the ETL, training the model, and then testing the prediction.  We'll make every effort to get as balanced of a dataset as we can.  We'll also pull some extra variables to allow for further self-exploration of gender based education and income breakdowns.  On a single Titan RTX, you can run the whole notebook workflow on the 4GB dataset of 14 million rows by 44 columns in less than 3 minutes, however this Colab customized notebook lets you explore a subset of that data, 2GB, while avoiding Out Of Memory issues.  "
      ]
    },
    {
      "cell_type": "markdown",
      "metadata": {
        "id": "3eCXmNkh-4CA",
        "colab_type": "text"
      },
      "source": [
        "**Let's begin!**"
      ]
    },
    {
      "cell_type": "code",
      "metadata": {
        "id": "DWd0aR7m-59b",
        "colab_type": "code",
        "colab": {
          "base_uri": "https://localhost:8080/",
          "height": 247
        },
        "outputId": "4176d0f4-551e-4dfc-dae8-730cde9f1be9"
      },
      "source": [
        "!wget -nc https://github.com/rapidsai/notebooks-extended/raw/master/utils/rapids-colab.sh\n",
        "!bash rapids-colab.sh\n",
        "!wget https://rapidsai-data.s3.us-east-2.amazonaws.com/datasets/ipums+1970+1990+2000.csv.gz\n",
        "\n",
        "import sys, os\n",
        "\n",
        "sys.path.append('/usr/local/lib/python3.6/site-packages/')\n",
        "os.environ['NUMBAPRO_NVVM'] = '/usr/local/cuda/nvvm/lib64/libnvvm.so'\n",
        "os.environ['NUMBAPRO_LIBDEVICE'] = '/usr/local/cuda/nvvm/libdevice/'"
      ],
      "execution_count":0,
      "outputs": []
    },
    {
      "cell_type": "markdown",
      "metadata": {
        "id": "jVwENxQI-4CB",
        "colab_type": "text"
      },
      "source": [
        "## Imports"
      ]
    },
    {
      "cell_type": "code",
      "metadata": {
        "id": "N2WbQPwu-4CD",
        "colab_type": "code",
        "colab": {}
      },
      "source": [
        "import pandas as pd\n",
        "import numpy as np\n",
        "import cuml\n",
        "import cudf\n",
        "import dask_cudf\n",
        "import dask_cuml\n",
        "import sys\n",
        "import os\n",
        "import gzip\n",
        "from pprint import pprint\n",
        "import warnings\n",
        "warnings.filterwarnings('ignore')"
      ],
      "execution_count": 0,
      "outputs": []
    },
    {
      "cell_type": "markdown",
      "metadata": {
        "id": "Z3NsNYXl-4CH",
        "colab_type": "text"
      },
      "source": [
        "## Get your data!"
      ]
    },
    {
      "cell_type": "code",
      "metadata": {
        "id": "t3LTp4uv-4CI",
        "colab_type": "code",
        "colab": {
          "base_uri": "https://localhost:8080/",
          "height": 212
        },
        "outputId": "6e7f0d60-22f0-4442-b2c0-d787983ec46c"
      },
      "source": [
        "#### !!!!!! UNCOMMENT TO DOWNLOAD DATASET !!!!!! #####\n",
        "#!wget https://rapidsai-data.s3.us-east-2.amazonaws.com/datasets/ipums+1970+1990+2000.csv.gz "
      ],
      "execution_count": 0,
      "outputs": []
    },
    {
      "cell_type": "code",
      "metadata": {
        "id": "AIdjUZrs-4CK",
        "colab_type": "code",
        "colab": {}
      },
      "source": [
        "def load_data(cached = 'ipums+1970+1990+2000.csv.gz',source='ipums'):\n",
        "    if os.path.exists(cached) and source=='ipums':\n",
        "        print('use ipums data')\n",
        "        with gzip.open(cached) as f:\n",
        "            X = cudf.read_csv(f)\n",
        "    else:\n",
        "        print(\"No data found!  Please uncomment the cell above the 'LOAD_DATA' function and try again!\")\n",
        "        X = null\n",
        "    return X"
      ],
      "execution_count": 0,
      "outputs": []
    },
    {
      "cell_type": "code",
      "metadata": {
        "id": "mp-XAqYo-4CN",
        "colab_type": "code",
        "colab": {
          "base_uri": "https://localhost:8080/",
          "height": 52
        },
        "outputId": "b08b91fe-2419-4eb6-ba11-5445cb47025f"
      },
      "source": [
        "file = 'ipums+1970+1990+2000.csv.gz' #incase you wanted to change your file later\n",
        "df = load_data(file)\n",
        "print('data',df.shape)"
      ],
      "execution_count": 0,
      "outputs": []
    },
    {
      "cell_type": "code",
      "metadata": {
        "id": "jZAdi2fM-4CP",
        "colab_type": "code",
        "colab": {
          "base_uri": "https://localhost:8080/",
          "height": 158
        },
        "outputId": "457791c5-e8e9-44c0-edc0-187a26f18be0"
      },
      "source": [
        "print(df.head(5).to_pandas())"
      ],
      "execution_count": 0,
      "outputs": []
    },
    {
      "cell_type": "code",
      "metadata": {
        "id": "3L5bAMnk-4CR",
        "colab_type": "code",
        "colab": {
          "base_uri": "https://localhost:8080/",
          "height": 816
        },
        "outputId": "654e8b0f-ba64-41c0-eccb-b0ab515d55b3"
      },
      "source": [
        "df.dtypes"
      ],
      "execution_count": 34,
      "outputs": [
        {
          "output_type": "execute_result",
          "data": {
            "text/plain": [
              "YEAR             int64\n",
              "DATANUM          int64\n",
              "SERIAL           int64\n",
              "HHWT             int64\n",
              "CPI99          float64\n",
              "GQ               int64\n",
              "QGQ            float64\n",
              "PERNUM           int64\n",
              "PERWT            int64\n",
              "SEX              int64\n",
              "AGE              int64\n",
              "EDUC             int64\n",
              "EDUCD            int64\n",
              "INCTOT           int64\n",
              "SEX_HEAD       float64\n",
              "SEX_MOM        float64\n",
              "SEX_POP        float64\n",
              "SEX_SP         float64\n",
              "SEX_MOM2       float64\n",
              "SEX_POP2       float64\n",
              "AGE_HEAD       float64\n",
              "AGE_MOM        float64\n",
              "AGE_POP        float64\n",
              "AGE_SP         float64\n",
              "AGE_MOM2       float64\n",
              "AGE_POP2       float64\n",
              "EDUC_HEAD      float64\n",
              "EDUC_MOM       float64\n",
              "EDUC_POP       float64\n",
              "EDUC_SP        float64\n",
              "EDUC_MOM2      float64\n",
              "EDUC_POP2      float64\n",
              "EDUCD_HEAD     float64\n",
              "EDUCD_MOM      float64\n",
              "EDUCD_POP      float64\n",
              "EDUCD_SP       float64\n",
              "EDUCD_MOM2     float64\n",
              "EDUCD_POP2     float64\n",
              "INCTOT_HEAD    float64\n",
              "INCTOT_MOM     float64\n",
              "INCTOT_POP     float64\n",
              "INCTOT_SP      float64\n",
              "INCTOT_MOM2    float64\n",
              "INCTOT_POP2    float64\n",
              "dtype: object"
            ]
          },
          "metadata": {
            "tags": []
          },
          "execution_count": 34
        }
      ]
    },
    {
      "cell_type": "code",
      "metadata": {
        "id": "XGwdwueF-4CU",
        "colab_type": "code",
        "colab": {
          "base_uri": "https://localhost:8080/",
          "height": 87
        },
        "outputId": "1eb9d8f7-7c15-4421-9c89-add0f88511e8"
      },
      "source": [
        "original_counts = df.YEAR.value_counts()\n",
        "print(original_counts) ### Remember these numbers!"
      ],
      "execution_count": 35,
      "outputs": [
        {
          "output_type": "stream",
          "text": [
            "2000    2808457\n",
            "1990    2479020\n",
            "1970    2029633\n",
            "dtype: int64\n"
          ],
          "name": "stdout"
        }
      ]
    },
    {
      "cell_type": "markdown",
      "metadata": {
        "id": "EWq6SOVd-4CX",
        "colab_type": "text"
      },
      "source": [
        "## ETL"
      ]
    },
    {
      "cell_type": "markdown",
      "metadata": {
        "id": "HAlMOura-4CX",
        "colab_type": "text"
      },
      "source": [
        "### Cleaning Income data\n",
        "First, let's focus on cleaning out the bad values for Total Income `INCTOT`. First, let's see if there are an `N/A` values, as when we did `head()`, we saw some in other columns, like CBSERIAL"
      ]
    },
    {
      "cell_type": "code",
      "metadata": {
        "id": "EfLqckJ0-4CZ",
        "colab_type": "code",
        "colab": {}
      },
      "source": [
        "df['INCTOT_NA'] = df['INCTOT'].isna()"
      ],
      "execution_count": 0,
      "outputs": []
    },
    {
      "cell_type": "code",
      "metadata": {
        "id": "C-Wa4T80-4Cc",
        "colab_type": "code",
        "colab": {
          "base_uri": "https://localhost:8080/",
          "height": 52
        },
        "outputId": "d60bd72b-14aa-43a7-8eea-0fe909c804f6"
      },
      "source": [
        "print(df.INCTOT_NA.value_counts())"
      ],
      "execution_count": 11,
      "outputs": [
        {
          "output_type": "stream",
          "text": [
            "False    7317110\n",
            "dtype: int64\n"
          ],
          "name": "stdout"
        }
      ]
    },
    {
      "cell_type": "markdown",
      "metadata": {
        "id": "VKIN2CSP-4Ce",
        "colab_type": "text"
      },
      "source": [
        "Okay, great, there are no `N/A`s...or are there?  Let's drop `INCTOT_NA` and see what our value counts look like"
      ]
    },
    {
      "cell_type": "code",
      "metadata": {
        "id": "snZ9oluD-4Ce",
        "colab_type": "code",
        "colab": {
          "base_uri": "https://localhost:8080/",
          "height": 1000
        },
        "outputId": "bff09e38-fe04-4dae-9df4-220df1af20c2"
      },
      "source": [
        "df=df.drop('INCTOT_NA')\n",
        "print(df.INCTOT.value_counts().to_pandas())  ### Wow, look how many people in America make $10,000,000!  Wait a minutes... "
      ],
      "execution_count": 12,
      "outputs": [
        {
          "output_type": "stream",
          "text": [
            "9999999    1724341\n",
            "0           842576\n",
            "20000        62816\n",
            "30000        58371\n",
            "12000        58248\n",
            "10000        56314\n",
            "15000        52982\n",
            "25000        50034\n",
            "6000         46820\n",
            "18000        42550\n",
            "40000        37964\n",
            "5000         37637\n",
            "8000         35022\n",
            "35000        33098\n",
            "24000        32471\n",
            "16000        31692\n",
            "14000        30682\n",
            "22000        30501\n",
            "13000        30469\n",
            "5050         30458\n",
            "3000         29963\n",
            "50000        29820\n",
            "3050         28882\n",
            "17000        27928\n",
            "7000         27675\n",
            "9000         27451\n",
            "6050         27190\n",
            "4000         27159\n",
            "4050         26786\n",
            "28000        26663\n",
            "            ...   \n",
            "655950           1\n",
            "657000           1\n",
            "662000           1\n",
            "666000           1\n",
            "668500           1\n",
            "669000           1\n",
            "689000           1\n",
            "695000           1\n",
            "697000           1\n",
            "705500           1\n",
            "706000           1\n",
            "708300           1\n",
            "714000           1\n",
            "719000           1\n",
            "720400           1\n",
            "722200           1\n",
            "732000           1\n",
            "736700           1\n",
            "743000           1\n",
            "757000           1\n",
            "757100           1\n",
            "762000           1\n",
            "764000           1\n",
            "786400           1\n",
            "800800           1\n",
            "832000           1\n",
            "835100           1\n",
            "879000           1\n",
            "890000           1\n",
            "946200           1\n",
            "Length: 84597, dtype: int64\n"
          ],
          "name": "stdout"
        }
      ]
    },
    {
      "cell_type": "markdown",
      "metadata": {
        "id": "Tr__DMGO-4Ch",
        "colab_type": "text"
      },
      "source": [
        "Not that many people make $10M a year. Checking https://usa.ipums.org/usa-action/variables/INCTOT#codes_section, `9999999`is INCTOT's code for `N/A`.  That was why when we ran `isna`, RAPIDS won't find any.  Let's first create a new dataframe that is only NA values, then let's pull those encoded `N/A`s out of our working dataframe!"
      ]
    },
    {
      "cell_type": "code",
      "metadata": {
        "id": "GLMtjKNb-4Ch",
        "colab_type": "code",
        "colab": {
          "base_uri": "https://localhost:8080/",
          "height": 34
        },
        "outputId": "7962f422-9704-4d4f-80e0-8c9fd183ca02"
      },
      "source": [
        "print('data',df.shape)\n",
        "tdf = df.query('INCTOT == 9999999')\n",
        "df = df.query('INCTOT != 9999999')"
      ],
      "execution_count": 13,
      "outputs": [
        {
          "output_type": "stream",
          "text": [
            "data (7317110, 44)\n"
          ],
          "name": "stdout"
        }
      ]
    },
    {
      "cell_type": "code",
      "metadata": {
        "id": "_FEsgvly-4Ck",
        "colab_type": "code",
        "colab": {
          "base_uri": "https://localhost:8080/",
          "height": 52
        },
        "outputId": "e84657c6-55e9-49ff-d939-747469ade958"
      },
      "source": [
        "print('working data',df.shape)\n",
        "print('junk count data',tdf.shape)"
      ],
      "execution_count": 14,
      "outputs": [
        {
          "output_type": "stream",
          "text": [
            "working data (5592769, 44)\n",
            "junk count data (1724341, 44)\n"
          ],
          "name": "stdout"
        }
      ]
    },
    {
      "cell_type": "markdown",
      "metadata": {
        "id": "FfWUN_qr-4Cn",
        "colab_type": "text"
      },
      "source": [
        "For the curious, now we should be able to get accurate Total Income data, by year, not taking into account inflation"
      ]
    },
    {
      "cell_type": "code",
      "metadata": {
        "id": "Vi0ZR4ZF-4Co",
        "colab_type": "code",
        "colab": {
          "base_uri": "https://localhost:8080/",
          "height": 105
        },
        "outputId": "7464174f-5834-4094-89e0-7fc6b208f72b"
      },
      "source": [
        "print(df.groupby('YEAR')['INCTOT'].mean()) # without that cleanup, the average would have bene in the millions...."
      ],
      "execution_count": 15,
      "outputs": [
        {
          "output_type": "stream",
          "text": [
            "YEAR\n",
            "1970    4189.597435738769\n",
            "1990    18026.86175960633\n",
            "2000    27395.80096278854\n",
            "Name: INCTOT, dtype: float64\n"
          ],
          "name": "stdout"
        }
      ]
    },
    {
      "cell_type": "markdown",
      "metadata": {
        "id": "3Zoiqxi8-4Cs",
        "colab_type": "text"
      },
      "source": [
        "#### Normalize Income for inflation\n",
        "Now that we have reduced our dataframe to a baseline clean data to answer our question, we should normalize the amounts for inflation.  `CPI99`is the value that IPUMS uses to contian the inflation factor.  All we have to do is multipy by year.  Let's see how that changes the Total Income values from just above!"
      ]
    },
    {
      "cell_type": "code",
      "metadata": {
        "id": "REZEGPoV-4Cs",
        "colab_type": "code",
        "colab": {
          "base_uri": "https://localhost:8080/",
          "height": 194
        },
        "outputId": "6b14971c-2381-46d9-9ea0-dd9d48c4cfef"
      },
      "source": [
        "print(df.groupby('YEAR')['CPI99'].mean()) ## it just returns the CPI99\n",
        "df['INCTOT'] = df['INCTOT'] * df['CPI99']\n",
        "print(df.groupby('YEAR')['INCTOT'].mean()) ## let's see what we got!"
      ],
      "execution_count": 16,
      "outputs": [
        {
          "output_type": "stream",
          "text": [
            "YEAR\n",
            "1970     4.540000000033649\n",
            "1990    1.3440000000313372\n",
            "2000                   1.0\n",
            "Name: CPI99, dtype: float64\n",
            "YEAR\n",
            "1970     19020.77235825401\n",
            "1990    24228.102204913546\n",
            "2000     27395.80096278854\n",
            "Name: INCTOT, dtype: float64\n"
          ],
          "name": "stdout"
        }
      ]
    },
    {
      "cell_type": "markdown",
      "metadata": {
        "id": "fr72KVO9-4Cv",
        "colab_type": "text"
      },
      "source": [
        "### Cleaning Education Data\n",
        "Okay, great!  Now we have income cleaned up, it should also have cleaned much of our next sets of values of interes, namely Education and Education Detailed.  However, there are still some `N/A`s in key variables to worry about, which can cause problmes later.  Let's create a list of them..."
      ]
    },
    {
      "cell_type": "code",
      "metadata": {
        "id": "IxsIvxvs-4Cv",
        "colab_type": "code",
        "colab": {}
      },
      "source": [
        "suspect = ['EDUC', 'EDUCD', 'EDUC_HEAD', 'EDUC_POP', 'EDUC_MOM','EDUCD_MOM2','EDUCD_POP2', 'INCTOT_MOM','INCTOT_POP','INCTOT_MOM2','INCTOT_POP2', 'INCTOT_HEAD']"
      ],
      "execution_count": 0,
      "outputs": []
    },
    {
      "cell_type": "code",
      "metadata": {
        "id": "QfQlD1AE-4Cx",
        "colab_type": "code",
        "colab": {
          "base_uri": "https://localhost:8080/",
          "height": 1000
        },
        "outputId": "f8732f38-946a-4a40-c53c-8130f512a292"
      },
      "source": [
        "for i in range(0, len(suspect)):\n",
        "    df[suspect[i]] = df[suspect[i]].fillna(-1)\n",
        "    print(suspect[i], df[suspect[i]].value_counts())"
      ],
      "execution_count": 19,
      "outputs": [
        {
          "output_type": "stream",
          "text": [
            "EDUC 6    1913252\n",
            "7     766453\n",
            "10     601171\n",
            "2     587661\n",
            "4     330352\n",
            "11     329543\n",
            "5     303339\n",
            "8     302091\n",
            "3     270371\n",
            "1      86815\n",
            "[2 more rows]\n",
            "dtype: int64\n",
            "EDUCD 62    1155015\n",
            "71     696359\n",
            "101     523720\n",
            "60     401792\n",
            "40     330352\n",
            "50     303339\n",
            "30     270371\n",
            "65     196000\n",
            "26     185359\n",
            "114     182873\n",
            "[27 more rows]\n",
            "dtype: int64\n",
            "EDUC_HEAD 6.0    1742489\n",
            "7.0     715847\n",
            "10.0     653443\n",
            "2.0     580049\n",
            "11.0     433226\n",
            "-1.0     326618\n",
            "8.0     299042\n",
            "4.0     239050\n",
            "5.0     206678\n",
            "3.0     195514\n",
            "[3 more rows]\n",
            "dtype: int64\n",
            "EDUC_POP -1.0    4958160\n",
            "6.0     206684\n",
            "2.0      87679\n",
            "7.0      70045\n",
            "10.0      64837\n",
            "11.0      48976\n",
            "8.0      33418\n",
            "4.0      32807\n",
            "5.0      27221\n",
            "3.0      26886\n",
            "[3 more rows]\n",
            "dtype: int64\n",
            "EDUC_MOM -1.0    4767173\n",
            "6.0     325469\n",
            "2.0     104471\n",
            "7.0      91144\n",
            "10.0      61419\n",
            "4.0      46748\n",
            "8.0      45503\n",
            "5.0      40945\n",
            "3.0      36593\n",
            "11.0      30255\n",
            "[3 more rows]\n",
            "dtype: int64\n",
            "EDUCD_MOM2 -1.0    5591766\n",
            "62.0        291\n",
            "71.0        142\n",
            "101.0        106\n",
            "81.0         56\n",
            "2.0         52\n",
            "65.0         47\n",
            "50.0         44\n",
            "114.0         42\n",
            "21.0         41\n",
            "[12 more rows]\n",
            "dtype: int64\n",
            "EDUCD_POP2 -1.0    5591944\n",
            "62.0        220\n",
            "101.0         74\n",
            "71.0         66\n",
            "61.0         64\n",
            "21.0         54\n",
            "2.0         53\n",
            "24.0         38\n",
            "65.0         34\n",
            "30.0         32\n",
            "[11 more rows]\n",
            "dtype: int64\n",
            "INCTOT_MOM -1.0    4767173\n",
            "0.0     191871\n",
            "12000.0       9775\n",
            "10000.0       9205\n",
            "20000.0       8977\n",
            "15000.0       8367\n",
            "6000.0       7769\n",
            "3050.0       7111\n",
            "18000.0       6620\n",
            "30000.0       6510\n",
            "[29451 more rows]\n",
            "dtype: int64\n",
            "INCTOT_POP -1.0    4958160\n",
            "0.0      15066\n",
            "10050.0       9702\n",
            "30000.0       9398\n",
            "50000.0       8375\n",
            "8050.0       8199\n",
            "40000.0       7978\n",
            "7050.0       6759\n",
            "9050.0       6627\n",
            "20000.0       6490\n",
            "[37445 more rows]\n",
            "dtype: int64\n",
            "INCTOT_MOM2 -1.0    5591766\n",
            "0.0        161\n",
            "7000.0         21\n",
            "20000.0         20\n",
            "8000.0         17\n",
            "25000.0         17\n",
            "5000.0         15\n",
            "12000.0         15\n",
            "30000.0         15\n",
            "18000.0         14\n",
            "[299 more rows]\n",
            "dtype: int64\n",
            "INCTOT_POP2 -1.0    5591944\n",
            "0.0        150\n",
            "12000.0         25\n",
            "20000.0         23\n",
            "10000.0         18\n",
            "15000.0         17\n",
            "40000.0         17\n",
            "25000.0         16\n",
            "30000.0         13\n",
            "16000.0         12\n",
            "[221 more rows]\n",
            "dtype: int64\n",
            "INCTOT_HEAD -1.0    326619\n",
            "0.0    137271\n",
            "30000.0     73434\n",
            "20000.0     62139\n",
            "25000.0     56228\n",
            "40000.0     54858\n",
            "50000.0     49149\n",
            "12000.0     46333\n",
            "10050.0     45800\n",
            "15000.0     45567\n",
            "[80474 more rows]\n",
            "dtype: int64\n"
          ],
          "name": "stdout"
        }
      ]
    },
    {
      "cell_type": "markdown",
      "metadata": {
        "id": "tvRd1Bf1-4C0",
        "colab_type": "text"
      },
      "source": [
        "Let's get drop any rows of any `-1`s in Education and Education Detailed."
      ]
    },
    {
      "cell_type": "code",
      "metadata": {
        "id": "O1DWy2Os-4C0",
        "colab_type": "code",
        "colab": {
          "base_uri": "https://localhost:8080/",
          "height": 52
        },
        "outputId": "8be4e49e-b38f-4e04-f507-7e61693e3f92"
      },
      "source": [
        "totincome = ['EDUC','EDUCD']\n",
        "for i in range(0, len(totincome)):\n",
        "    query = totincome[i] + ' != -1'\n",
        "    df = df.query(query)\n",
        "    print(totincome[i])"
      ],
      "execution_count": 20,
      "outputs": [
        {
          "output_type": "stream",
          "text": [
            "EDUC\n",
            "EDUCD\n"
          ],
          "name": "stdout"
        }
      ]
    },
    {
      "cell_type": "code",
      "metadata": {
        "id": "9o5b7wOM-4C4",
        "colab_type": "code",
        "colab": {
          "base_uri": "https://localhost:8080/",
          "height": 235
        },
        "outputId": "0e2d0cc6-ef09-456b-81a6-cf519e962778"
      },
      "source": [
        "print(df.shape)\n",
        "df.head().to_pandas().head()"
      ],
      "execution_count": 21,
      "outputs": [
        {
          "output_type": "stream",
          "text": [
            "(5592769, 44)\n"
          ],
          "name": "stdout"
        },
        {
          "output_type": "execute_result",
          "data": {
            "text/html": [
              "<div>\n",
              "<style scoped>\n",
              "    .dataframe tbody tr th:only-of-type {\n",
              "        vertical-align: middle;\n",
              "    }\n",
              "\n",
              "    .dataframe tbody tr th {\n",
              "        vertical-align: top;\n",
              "    }\n",
              "\n",
              "    .dataframe thead th {\n",
              "        text-align: right;\n",
              "    }\n",
              "</style>\n",
              "<table border=\"1\" class=\"dataframe\">\n",
              "  <thead>\n",
              "    <tr style=\"text-align: right;\">\n",
              "      <th></th>\n",
              "      <th>YEAR</th>\n",
              "      <th>DATANUM</th>\n",
              "      <th>SERIAL</th>\n",
              "      <th>HHWT</th>\n",
              "      <th>CPI99</th>\n",
              "      <th>GQ</th>\n",
              "      <th>QGQ</th>\n",
              "      <th>PERNUM</th>\n",
              "      <th>PERWT</th>\n",
              "      <th>SEX</th>\n",
              "      <th>AGE</th>\n",
              "      <th>EDUC</th>\n",
              "      <th>EDUCD</th>\n",
              "      <th>INCTOT</th>\n",
              "      <th>SEX_HEAD</th>\n",
              "      <th>SEX_MOM</th>\n",
              "      <th>SEX_POP</th>\n",
              "      <th>SEX_SP</th>\n",
              "      <th>SEX_MOM2</th>\n",
              "      <th>SEX_POP2</th>\n",
              "      <th>AGE_HEAD</th>\n",
              "      <th>AGE_MOM</th>\n",
              "      <th>AGE_POP</th>\n",
              "      <th>AGE_SP</th>\n",
              "      <th>AGE_MOM2</th>\n",
              "      <th>AGE_POP2</th>\n",
              "      <th>EDUC_HEAD</th>\n",
              "      <th>EDUC_MOM</th>\n",
              "      <th>EDUC_POP</th>\n",
              "      <th>EDUC_SP</th>\n",
              "      <th>EDUC_MOM2</th>\n",
              "      <th>EDUC_POP2</th>\n",
              "      <th>EDUCD_HEAD</th>\n",
              "      <th>EDUCD_MOM</th>\n",
              "      <th>EDUCD_POP</th>\n",
              "      <th>EDUCD_SP</th>\n",
              "      <th>EDUCD_MOM2</th>\n",
              "      <th>EDUCD_POP2</th>\n",
              "      <th>INCTOT_HEAD</th>\n",
              "      <th>INCTOT_MOM</th>\n",
              "      <th>INCTOT_POP</th>\n",
              "      <th>INCTOT_SP</th>\n",
              "      <th>INCTOT_MOM2</th>\n",
              "      <th>INCTOT_POP2</th>\n",
              "    </tr>\n",
              "  </thead>\n",
              "  <tbody>\n",
              "    <tr>\n",
              "      <th>0</th>\n",
              "      <td>1970</td>\n",
              "      <td>2</td>\n",
              "      <td>1</td>\n",
              "      <td>100</td>\n",
              "      <td>4.54</td>\n",
              "      <td>1</td>\n",
              "      <td>0.0</td>\n",
              "      <td>1</td>\n",
              "      <td>100</td>\n",
              "      <td>1</td>\n",
              "      <td>39</td>\n",
              "      <td>6</td>\n",
              "      <td>60</td>\n",
              "      <td>56523.0</td>\n",
              "      <td>1.0</td>\n",
              "      <td>NaN</td>\n",
              "      <td>NaN</td>\n",
              "      <td>2.0</td>\n",
              "      <td>NaN</td>\n",
              "      <td>NaN</td>\n",
              "      <td>39.0</td>\n",
              "      <td>NaN</td>\n",
              "      <td>NaN</td>\n",
              "      <td>36.0</td>\n",
              "      <td>NaN</td>\n",
              "      <td>NaN</td>\n",
              "      <td>6.0</td>\n",
              "      <td>-1.0</td>\n",
              "      <td>-1.0</td>\n",
              "      <td>3.0</td>\n",
              "      <td>NaN</td>\n",
              "      <td>NaN</td>\n",
              "      <td>60.0</td>\n",
              "      <td>NaN</td>\n",
              "      <td>NaN</td>\n",
              "      <td>30.0</td>\n",
              "      <td>-1.0</td>\n",
              "      <td>-1.0</td>\n",
              "      <td>12450.0</td>\n",
              "      <td>-1.0</td>\n",
              "      <td>-1.0</td>\n",
              "      <td>3450.0</td>\n",
              "      <td>-1.0</td>\n",
              "      <td>-1.0</td>\n",
              "    </tr>\n",
              "    <tr>\n",
              "      <th>1</th>\n",
              "      <td>1970</td>\n",
              "      <td>2</td>\n",
              "      <td>1</td>\n",
              "      <td>100</td>\n",
              "      <td>4.54</td>\n",
              "      <td>1</td>\n",
              "      <td>0.0</td>\n",
              "      <td>2</td>\n",
              "      <td>100</td>\n",
              "      <td>2</td>\n",
              "      <td>36</td>\n",
              "      <td>3</td>\n",
              "      <td>30</td>\n",
              "      <td>15663.0</td>\n",
              "      <td>1.0</td>\n",
              "      <td>NaN</td>\n",
              "      <td>NaN</td>\n",
              "      <td>1.0</td>\n",
              "      <td>NaN</td>\n",
              "      <td>NaN</td>\n",
              "      <td>39.0</td>\n",
              "      <td>NaN</td>\n",
              "      <td>NaN</td>\n",
              "      <td>39.0</td>\n",
              "      <td>NaN</td>\n",
              "      <td>NaN</td>\n",
              "      <td>6.0</td>\n",
              "      <td>-1.0</td>\n",
              "      <td>-1.0</td>\n",
              "      <td>6.0</td>\n",
              "      <td>NaN</td>\n",
              "      <td>NaN</td>\n",
              "      <td>60.0</td>\n",
              "      <td>NaN</td>\n",
              "      <td>NaN</td>\n",
              "      <td>60.0</td>\n",
              "      <td>-1.0</td>\n",
              "      <td>-1.0</td>\n",
              "      <td>12450.0</td>\n",
              "      <td>-1.0</td>\n",
              "      <td>-1.0</td>\n",
              "      <td>12450.0</td>\n",
              "      <td>-1.0</td>\n",
              "      <td>-1.0</td>\n",
              "    </tr>\n",
              "    <tr>\n",
              "      <th>2</th>\n",
              "      <td>1970</td>\n",
              "      <td>2</td>\n",
              "      <td>2</td>\n",
              "      <td>100</td>\n",
              "      <td>4.54</td>\n",
              "      <td>1</td>\n",
              "      <td>0.0</td>\n",
              "      <td>1</td>\n",
              "      <td>100</td>\n",
              "      <td>1</td>\n",
              "      <td>56</td>\n",
              "      <td>7</td>\n",
              "      <td>70</td>\n",
              "      <td>41087.0</td>\n",
              "      <td>1.0</td>\n",
              "      <td>NaN</td>\n",
              "      <td>NaN</td>\n",
              "      <td>2.0</td>\n",
              "      <td>NaN</td>\n",
              "      <td>NaN</td>\n",
              "      <td>56.0</td>\n",
              "      <td>NaN</td>\n",
              "      <td>NaN</td>\n",
              "      <td>54.0</td>\n",
              "      <td>NaN</td>\n",
              "      <td>NaN</td>\n",
              "      <td>7.0</td>\n",
              "      <td>-1.0</td>\n",
              "      <td>-1.0</td>\n",
              "      <td>6.0</td>\n",
              "      <td>NaN</td>\n",
              "      <td>NaN</td>\n",
              "      <td>70.0</td>\n",
              "      <td>NaN</td>\n",
              "      <td>NaN</td>\n",
              "      <td>60.0</td>\n",
              "      <td>-1.0</td>\n",
              "      <td>-1.0</td>\n",
              "      <td>9050.0</td>\n",
              "      <td>-1.0</td>\n",
              "      <td>-1.0</td>\n",
              "      <td>0.0</td>\n",
              "      <td>-1.0</td>\n",
              "      <td>-1.0</td>\n",
              "    </tr>\n",
              "    <tr>\n",
              "      <th>3</th>\n",
              "      <td>1970</td>\n",
              "      <td>2</td>\n",
              "      <td>2</td>\n",
              "      <td>100</td>\n",
              "      <td>4.54</td>\n",
              "      <td>1</td>\n",
              "      <td>0.0</td>\n",
              "      <td>2</td>\n",
              "      <td>100</td>\n",
              "      <td>2</td>\n",
              "      <td>54</td>\n",
              "      <td>6</td>\n",
              "      <td>60</td>\n",
              "      <td>0.0</td>\n",
              "      <td>1.0</td>\n",
              "      <td>NaN</td>\n",
              "      <td>NaN</td>\n",
              "      <td>1.0</td>\n",
              "      <td>NaN</td>\n",
              "      <td>NaN</td>\n",
              "      <td>56.0</td>\n",
              "      <td>NaN</td>\n",
              "      <td>NaN</td>\n",
              "      <td>56.0</td>\n",
              "      <td>NaN</td>\n",
              "      <td>NaN</td>\n",
              "      <td>7.0</td>\n",
              "      <td>-1.0</td>\n",
              "      <td>-1.0</td>\n",
              "      <td>7.0</td>\n",
              "      <td>NaN</td>\n",
              "      <td>NaN</td>\n",
              "      <td>70.0</td>\n",
              "      <td>NaN</td>\n",
              "      <td>NaN</td>\n",
              "      <td>70.0</td>\n",
              "      <td>-1.0</td>\n",
              "      <td>-1.0</td>\n",
              "      <td>9050.0</td>\n",
              "      <td>-1.0</td>\n",
              "      <td>-1.0</td>\n",
              "      <td>9050.0</td>\n",
              "      <td>-1.0</td>\n",
              "      <td>-1.0</td>\n",
              "    </tr>\n",
              "    <tr>\n",
              "      <th>4</th>\n",
              "      <td>1970</td>\n",
              "      <td>2</td>\n",
              "      <td>4</td>\n",
              "      <td>100</td>\n",
              "      <td>4.54</td>\n",
              "      <td>1</td>\n",
              "      <td>0.0</td>\n",
              "      <td>1</td>\n",
              "      <td>100</td>\n",
              "      <td>1</td>\n",
              "      <td>82</td>\n",
              "      <td>1</td>\n",
              "      <td>17</td>\n",
              "      <td>33823.0</td>\n",
              "      <td>1.0</td>\n",
              "      <td>NaN</td>\n",
              "      <td>NaN</td>\n",
              "      <td>2.0</td>\n",
              "      <td>NaN</td>\n",
              "      <td>NaN</td>\n",
              "      <td>82.0</td>\n",
              "      <td>NaN</td>\n",
              "      <td>NaN</td>\n",
              "      <td>74.0</td>\n",
              "      <td>NaN</td>\n",
              "      <td>NaN</td>\n",
              "      <td>1.0</td>\n",
              "      <td>-1.0</td>\n",
              "      <td>-1.0</td>\n",
              "      <td>2.0</td>\n",
              "      <td>NaN</td>\n",
              "      <td>NaN</td>\n",
              "      <td>17.0</td>\n",
              "      <td>NaN</td>\n",
              "      <td>NaN</td>\n",
              "      <td>23.0</td>\n",
              "      <td>-1.0</td>\n",
              "      <td>-1.0</td>\n",
              "      <td>7450.0</td>\n",
              "      <td>-1.0</td>\n",
              "      <td>-1.0</td>\n",
              "      <td>650.0</td>\n",
              "      <td>-1.0</td>\n",
              "      <td>-1.0</td>\n",
              "    </tr>\n",
              "  </tbody>\n",
              "</table>\n",
              "</div>"
            ],
            "text/plain": [
              "   YEAR  DATANUM  SERIAL  HHWT  ...  INCTOT_POP  INCTOT_SP  INCTOT_MOM2  INCTOT_POP2\n",
              "0  1970        2       1   100  ...        -1.0     3450.0         -1.0         -1.0\n",
              "1  1970        2       1   100  ...        -1.0    12450.0         -1.0         -1.0\n",
              "2  1970        2       2   100  ...        -1.0        0.0         -1.0         -1.0\n",
              "3  1970        2       2   100  ...        -1.0     9050.0         -1.0         -1.0\n",
              "4  1970        2       4   100  ...        -1.0      650.0         -1.0         -1.0\n",
              "\n",
              "[5 rows x 44 columns]"
            ]
          },
          "metadata": {
            "tags": []
          },
          "execution_count": 21
        }
      ]
    },
    {
      "cell_type": "markdown",
      "metadata": {
        "id": "16RlZJtI-4C7",
        "colab_type": "text"
      },
      "source": [
        "Well, the good news is that we lost no further rows, start to normalize the data so when we do our OLS, one year doesn't unfairly dominate the data"
      ]
    },
    {
      "cell_type": "markdown",
      "metadata": {
        "id": "5ty-lixq-4C8",
        "colab_type": "text"
      },
      "source": [
        "## Normalize the Data\n",
        "The in the last step, need to keep our data at about the same ratio as we when started (1% of the population), with the exception of 1980, which was a 5% and needs to be reduced.  This is why we kept the temp dataframe `tdf` - to get the counts per year.   we will find out just how many have to realize"
      ]
    },
    {
      "cell_type": "code",
      "metadata": {
        "id": "i77gyt2g-4C8",
        "colab_type": "code",
        "colab": {
          "base_uri": "https://localhost:8080/",
          "height": 194
        },
        "outputId": "f71aa696-4620-4de6-ae64-75b4a999c289"
      },
      "source": [
        "print('Working data: \\n', df.YEAR.value_counts())\n",
        "print('junk count data: \\n', tdf.YEAR.value_counts())"
      ],
      "execution_count": 22,
      "outputs": [
        {
          "output_type": "stream",
          "text": [
            "Working data: \n",
            " 2000    2199860\n",
            "1990    1906165\n",
            "1970    1486744\n",
            "dtype: int64\n",
            "junk count data: \n",
            " 2000    608597\n",
            "1990    572855\n",
            "1970    542889\n",
            "dtype: int64\n"
          ],
          "name": "stdout"
        }
      ]
    },
    {
      "cell_type": "markdown",
      "metadata": {
        "id": "sO85xb7E-4C-",
        "colab_type": "text"
      },
      "source": [
        "And now, so that we can do MSE, let's make all the dtypes the same. "
      ]
    },
    {
      "cell_type": "code",
      "metadata": {
        "id": "iAFZu5yU-4C_",
        "colab_type": "code",
        "colab": {
          "base_uri": "https://localhost:8080/",
          "height": 816
        },
        "outputId": "2d878608-70ad-4667-e5dc-d53d8ea7ff4a"
      },
      "source": [
        "df.dtypes"
      ],
      "execution_count": 23,
      "outputs": [
        {
          "output_type": "execute_result",
          "data": {
            "text/plain": [
              "YEAR             int64\n",
              "DATANUM          int64\n",
              "SERIAL           int64\n",
              "HHWT             int64\n",
              "CPI99          float64\n",
              "GQ               int64\n",
              "QGQ            float64\n",
              "PERNUM           int64\n",
              "PERWT            int64\n",
              "SEX              int64\n",
              "AGE              int64\n",
              "EDUC             int64\n",
              "EDUCD            int64\n",
              "INCTOT         float64\n",
              "SEX_HEAD       float64\n",
              "SEX_MOM        float64\n",
              "SEX_POP        float64\n",
              "SEX_SP         float64\n",
              "SEX_MOM2       float64\n",
              "SEX_POP2       float64\n",
              "AGE_HEAD       float64\n",
              "AGE_MOM        float64\n",
              "AGE_POP        float64\n",
              "AGE_SP         float64\n",
              "AGE_MOM2       float64\n",
              "AGE_POP2       float64\n",
              "EDUC_HEAD      float64\n",
              "EDUC_MOM       float64\n",
              "EDUC_POP       float64\n",
              "EDUC_SP        float64\n",
              "EDUC_MOM2      float64\n",
              "EDUC_POP2      float64\n",
              "EDUCD_HEAD     float64\n",
              "EDUCD_MOM      float64\n",
              "EDUCD_POP      float64\n",
              "EDUCD_SP       float64\n",
              "EDUCD_MOM2     float64\n",
              "EDUCD_POP2     float64\n",
              "INCTOT_HEAD    float64\n",
              "INCTOT_MOM     float64\n",
              "INCTOT_POP     float64\n",
              "INCTOT_SP      float64\n",
              "INCTOT_MOM2    float64\n",
              "INCTOT_POP2    float64\n",
              "dtype: object"
            ]
          },
          "metadata": {
            "tags": []
          },
          "execution_count": 23
        }
      ]
    },
    {
      "cell_type": "code",
      "metadata": {
        "id": "A7EOyrmW-4DB",
        "colab_type": "code",
        "colab": {
          "base_uri": "https://localhost:8080/",
          "height": 1000
        },
        "outputId": "887541e9-8c16-4ffb-8257-724861775743"
      },
      "source": [
        "\n",
        "keep_cols = ['YEAR', 'DATANUM', 'SERIAL', 'HHWT', 'GQ', 'PERNUM', 'SEX', 'AGE', 'INCTOT', 'EDUC', 'EDUCD', 'EDUC_HEAD', 'EDUC_POP', 'EDUC_MOM','EDUCD_MOM2','EDUCD_POP2', 'INCTOT_MOM','INCTOT_POP','INCTOT_MOM2','INCTOT_POP2', 'INCTOT_HEAD', 'SEX_HEAD']\n",
        "df = df.loc[:, keep_cols]\n",
        "#df = df.drop(col for col in df.columns if col not in keep_cols)\n",
        "for i in range(0, len(keep_cols)):\n",
        "    df[keep_cols[i]] = df[keep_cols[i]].fillna(-1)\n",
        "    print(keep_cols[i], df[keep_cols[i]].value_counts())\n",
        "    df[keep_cols[i]]= df[keep_cols[i]].astype('float64')"
      ],
      "execution_count": 24,
      "outputs": [
        {
          "output_type": "stream",
          "text": [
            "YEAR 2000    2199860\n",
            "1990    1906165\n",
            "1970    1486744\n",
            "dtype: int64\n",
            "DATANUM 4    4106025\n",
            "2    1486744\n",
            "dtype: int64\n",
            "SERIAL 516649    27\n",
            "274893    24\n",
            "1032196    22\n",
            "502165    21\n",
            "546122    21\n",
            "740629    21\n",
            "50243    20\n",
            "95951    20\n",
            "528890    20\n",
            "129098    19\n",
            "[1223216 more rows]\n",
            "dtype: int64\n",
            "HHWT 100    5592769\n",
            "dtype: int64\n",
            "GQ 1    5385260\n",
            "4     103757\n",
            "3      93699\n",
            "2       9529\n",
            "5        522\n",
            "0          2\n",
            "dtype: int64\n",
            "PERNUM 1    2804172\n",
            "2    1858027\n",
            "3     547105\n",
            "4     221665\n",
            "5      87826\n",
            "6      38633\n",
            "7      17909\n",
            "8       7815\n",
            "9       4189\n",
            "10       2390\n",
            "[13 more rows]\n",
            "dtype: int64\n",
            "SEX 2    2916655\n",
            "1    2676114\n",
            "dtype: int64\n",
            "AGE 19    114873\n",
            "18    112782\n",
            "17    112483\n",
            "16    112309\n",
            "20    112074\n",
            "30    111875\n",
            "29    109707\n",
            "40    109570\n",
            "35    109055\n",
            "27    108716\n",
            "[77 more rows]\n",
            "dtype: int64\n",
            "INCTOT 0.0    842576\n",
            "30000.0     35437\n",
            "20000.0     34016\n",
            "22927.0     30173\n",
            "16128.000000000002     29344\n",
            "13440.0     28944\n",
            "12000.0     28904\n",
            "26880.0     28819\n",
            "25000.0     28702\n",
            "13847.0     28635\n",
            "[94807 more rows]\n",
            "dtype: int64\n",
            "EDUC 6    1913252\n",
            "7     766453\n",
            "10     601171\n",
            "2     587661\n",
            "4     330352\n",
            "11     329543\n",
            "5     303339\n",
            "8     302091\n",
            "3     270371\n",
            "1      86815\n",
            "[2 more rows]\n",
            "dtype: int64\n",
            "EDUCD 62    1155015\n",
            "71     696359\n",
            "101     523720\n",
            "60     401792\n",
            "40     330352\n",
            "50     303339\n",
            "30     270371\n",
            "65     196000\n",
            "26     185359\n",
            "114     182873\n",
            "[27 more rows]\n",
            "dtype: int64\n",
            "EDUC_HEAD 6.0    1742489\n",
            "7.0     715847\n",
            "10.0     653443\n",
            "2.0     580049\n",
            "11.0     433226\n",
            "-1.0     326618\n",
            "8.0     299042\n",
            "4.0     239050\n",
            "5.0     206678\n",
            "3.0     195514\n",
            "[3 more rows]\n",
            "dtype: int64\n",
            "EDUC_POP -1.0    4958160\n",
            "6.0     206684\n",
            "2.0      87679\n",
            "7.0      70045\n",
            "10.0      64837\n",
            "11.0      48976\n",
            "8.0      33418\n",
            "4.0      32807\n",
            "5.0      27221\n",
            "3.0      26886\n",
            "[3 more rows]\n",
            "dtype: int64\n",
            "EDUC_MOM -1.0    4767173\n",
            "6.0     325469\n",
            "2.0     104471\n",
            "7.0      91144\n",
            "10.0      61419\n",
            "4.0      46748\n",
            "8.0      45503\n",
            "5.0      40945\n",
            "3.0      36593\n",
            "11.0      30255\n",
            "[3 more rows]\n",
            "dtype: int64\n",
            "EDUCD_MOM2 -1.0    5591766\n",
            "62.0        291\n",
            "71.0        142\n",
            "101.0        106\n",
            "81.0         56\n",
            "2.0         52\n",
            "65.0         47\n",
            "50.0         44\n",
            "114.0         42\n",
            "21.0         41\n",
            "[12 more rows]\n",
            "dtype: int64\n",
            "EDUCD_POP2 -1.0    5591944\n",
            "62.0        220\n",
            "101.0         74\n",
            "71.0         66\n",
            "61.0         64\n",
            "21.0         54\n",
            "2.0         53\n",
            "24.0         38\n",
            "65.0         34\n",
            "30.0         32\n",
            "[11 more rows]\n",
            "dtype: int64\n",
            "INCTOT_MOM -1.0    4767173\n",
            "0.0     191871\n",
            "12000.0       9775\n",
            "10000.0       9205\n",
            "20000.0       8977\n",
            "15000.0       8367\n",
            "6000.0       7769\n",
            "3050.0       7111\n",
            "18000.0       6620\n",
            "30000.0       6510\n",
            "[29451 more rows]\n",
            "dtype: int64\n",
            "INCTOT_POP -1.0    4958160\n",
            "0.0      15066\n",
            "10050.0       9702\n",
            "30000.0       9398\n",
            "50000.0       8375\n",
            "8050.0       8199\n",
            "40000.0       7978\n",
            "7050.0       6759\n",
            "9050.0       6627\n",
            "20000.0       6490\n",
            "[37445 more rows]\n",
            "dtype: int64\n",
            "INCTOT_MOM2 -1.0    5591766\n",
            "0.0        161\n",
            "7000.0         21\n",
            "20000.0         20\n",
            "8000.0         17\n",
            "25000.0         17\n",
            "5000.0         15\n",
            "12000.0         15\n",
            "30000.0         15\n",
            "18000.0         14\n",
            "[299 more rows]\n",
            "dtype: int64\n",
            "INCTOT_POP2 -1.0    5591944\n",
            "0.0        150\n",
            "12000.0         25\n",
            "20000.0         23\n",
            "10000.0         18\n",
            "15000.0         17\n",
            "40000.0         17\n",
            "25000.0         16\n",
            "30000.0         13\n",
            "16000.0         12\n",
            "[221 more rows]\n",
            "dtype: int64\n",
            "INCTOT_HEAD -1.0    326619\n",
            "0.0    137271\n",
            "30000.0     73434\n",
            "20000.0     62139\n",
            "25000.0     56228\n",
            "40000.0     54858\n",
            "50000.0     49149\n",
            "12000.0     46333\n",
            "10050.0     45800\n",
            "15000.0     45567\n",
            "[80474 more rows]\n",
            "dtype: int64\n",
            "SEX_HEAD 1.0    3989575\n",
            "2.0    1276576\n",
            "-1.0     326618\n",
            "dtype: int64\n"
          ],
          "name": "stdout"
        }
      ]
    },
    {
      "cell_type": "code",
      "metadata": {
        "id": "U0sykr3q-4DD",
        "colab_type": "code",
        "colab": {}
      },
      "source": [
        "## I WANTED TO REDUCE THE 1980 SAMPLE HERE, BUT .SAMPLE() IS NEEDED AND NOT WORKING, UNLESS THERE IS A WORK AROUND..."
      ],
      "execution_count": 0,
      "outputs": []
    },
    {
      "cell_type": "markdown",
      "metadata": {
        "id": "2x02hwEO-4DF",
        "colab_type": "text"
      },
      "source": [
        "With the important data now clean and normalized, let's start doing the regression"
      ]
    },
    {
      "cell_type": "markdown",
      "metadata": {
        "id": "88Ov9hf9-4DG",
        "colab_type": "text"
      },
      "source": [
        "## Ridge Regression\n",
        "We have 44 variables.  The other variables may provide important predictive information.  The Ridge Regression technique with cross validation to identify the best hyperparamters may be the best way to get the most accurate model.  We'll have to \n",
        "\n",
        "* define our performance metrics\n",
        "* split our data into train and test sets\n",
        "* train and test our model\n",
        "\n",
        "Let's begin and see what we get!"
      ]
    },
    {
      "cell_type": "code",
      "metadata": {
        "id": "2ek9YK5y-4DH",
        "colab_type": "code",
        "colab": {}
      },
      "source": [
        "# As our performance metrics we'll use a basic mean squared error and coefficient of determination implementation\n",
        "def mse(y_test, y_pred):\n",
        "    return ((y_test - y_pred) ** 2).mean()\n",
        "\n",
        "def cod(y_test, y_pred):\n",
        "    y_bar = y_test.mean()\n",
        "    total = ((y_test - y_bar) ** 2).sum()\n",
        "    residuals = ((y_test - y_pred) ** 2).sum()\n",
        "    return 1 - (residuals / total)"
      ],
      "execution_count": 0,
      "outputs": []
    },
    {
      "cell_type": "code",
      "metadata": {
        "id": "XUPV6K4Z-4DJ",
        "colab_type": "code",
        "colab": {}
      },
      "source": [
        "from cuml.preprocessing.model_selection import train_test_split\n",
        "trainsize = .9\n",
        "yCol = \"EDUC\"\n",
        "from cuml.preprocessing.model_selection import train_test_split\n",
        "from cuml.linear_model.ridge import Ridge\n",
        "\n",
        "def train_and_score(data, clf, train_frac=0.8, n_runs=20):\n",
        "    mse_scores, cod_scores = [], []\n",
        "    for _ in range(n_runs):\n",
        "        X_train, X_test, y_train, y_test = cuml.preprocessing.model_selection.train_test_split(df, yCol, train_size=.9)\n",
        "        y_pred = clf.fit(X_train, y_train).predict(X_test)\n",
        "        mse_scores.append(mse(y_test, y_pred))\n",
        "        cod_scores.append(cod(y_test, y_pred))\n",
        "    return mse_scores, cod_scores"
      ],
      "execution_count": 0,
      "outputs": []
    },
    {
      "cell_type": "markdown",
      "metadata": {
        "id": "RarHz5hW-4DM",
        "colab_type": "text"
      },
      "source": [
        " ## Results\n",
        " **Moment of truth!  Let's see how our regression training does!**"
      ]
    },
    {
      "cell_type": "code",
      "metadata": {
        "id": "wskgc5h_-4DM",
        "colab_type": "code",
        "colab": {
          "base_uri": "https://localhost:8080/",
          "height": 52
        },
        "outputId": "71573c0c-5739-44d1-a35b-a14c7ebd7063"
      },
      "source": [
        "import numpy as np\n",
        "n_runs = 20\n",
        "clf = Ridge()\n",
        "mse_scores, cod_scores = train_and_score(df, clf, n_runs=n_runs)\n",
        "print(f\"median MSE ({n_runs} runs): {np.median(mse_scores)}\")\n",
        "print(f\"median COD ({n_runs} runs): {np.median(cod_scores)}\")"
      ],
      "execution_count": 28,
      "outputs": [
        {
          "output_type": "stream",
          "text": [
            "median MSE (20 runs): nan\n",
            "median COD (20 runs): 1.0\n"
          ],
          "name": "stdout"
        }
      ]
    },
    {
      "cell_type": "markdown",
      "metadata": {
        "id": "HtoQWorC-4DP",
        "colab_type": "text"
      },
      "source": [
        "**Fun fact:** if you made INCTOT the y axis, your prediction results would not be so pretty!  It just shows that your education level can be an indicator for your income, but your income is NOT a great predictor for your education level.  You have better odds flipping a coin!\n",
        "\n",
        "* median MSE (50 runs): 518189521.07548225\n",
        "* median COD (50 runs): 0.425769113846303"
      ]
    },
    {
      "cell_type": "markdown",
      "metadata": {
        "id": "tGFL0zyX-4DQ",
        "colab_type": "text"
      },
      "source": [
        "## Next Steps/Self Study\n",
        "* You can pickle the model and use it in another workflow\n",
        "* You can redo the workflow with based on head of household using `EDUC`, `SEX`, and `INCTOT` for X in `X`_HEAD\n",
        "* You can see the growing role of education with women in their changing role in the workforce and income with \"EDUC_MOM\" and \"EDUC_POP"
      ]
    },
    {
      "cell_type": "code",
      "metadata": {
        "id": "12-QTHQg-4DR",
        "colab_type": "code",
        "colab": {}
      },
      "source": [
        ""
      ],
      "execution_count": 0,
      "outputs": []
    }
  ]
}
